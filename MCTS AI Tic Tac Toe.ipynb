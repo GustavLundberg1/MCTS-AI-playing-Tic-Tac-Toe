{
  "nbformat": 4,
  "nbformat_minor": 0,
  "metadata": {
    "colab": {
      "provenance": [],
      "collapsed_sections": [
        "cwj2XEByO5n_",
        "6c9QDWxUQ7MT"
      ]
    },
    "kernelspec": {
      "name": "python3",
      "display_name": "Python 3"
    },
    "language_info": {
      "name": "python"
    }
  },
  "cells": [
    {
      "cell_type": "code",
      "execution_count": null,
      "metadata": {
        "id": "Qbe7xurfcoK5"
      },
      "outputs": [],
      "source": [
        "import numpy as np\n",
        "\n",
        "\n",
        "class TicTacToe():\n",
        "    def __init__(self, grid_size):\n",
        "        self.grid_size = grid_size\n",
        "\n",
        "        self.board = np.zeros((grid_size, grid_size), dtype=int)\n",
        "        if np.random.rand() < 2:\n",
        "            self.current_player = 1  # 1 for X, -1 for O\n",
        "        else:\n",
        "            self.current_player = -1\n",
        "\n",
        "    def is_winner(self, player):\n",
        "        # Check rows, columns, and diagonals\n",
        "        return np.any(np.all(self.board == player, axis=0)) or \\\n",
        "               np.any(np.all(self.board == player, axis=1)) or \\\n",
        "               np.all(np.diag(self.board) == player) or \\\n",
        "               np.all(np.diag(np.fliplr(self.board)) == player)\n",
        "\n",
        "    def is_draw(self):\n",
        "        return not any(0 in row for row in self.board) and not self.is_winner(1) and not self.is_winner(-1)\n",
        "\n",
        "    def is_terminal(self):\n",
        "        return self.is_winner(1) or self.is_winner(-1) or self.is_draw()\n",
        "\n",
        "    def legal_moves(self):\n",
        "        return list(zip(*np.where(self.board == 0)))\n",
        "\n",
        "    def make_move(self, move):\n",
        "        row, col = move\n",
        "        self.board[row, col] = self.current_player\n",
        "        self.current_player *= -1\n",
        "\n",
        "    def make_move_player(self, move, player):\n",
        "        row, col = move\n",
        "        self.board[row, col] = player\n",
        "\n",
        "    def copy(self):\n",
        "        new_board = TicTacToe(self.grid_size)\n",
        "        new_board.board = np.copy(self.board)\n",
        "        new_board.current_player = self.current_player\n",
        "        return new_board"
      ]
    },
    {
      "cell_type": "markdown",
      "source": [
        "# Player MCTS"
      ],
      "metadata": {
        "id": "MU9AwY-KcCke"
      }
    },
    {
      "cell_type": "code",
      "source": [
        "import random\n",
        "\n",
        "class Node:\n",
        "    def __init__(self, state, parent=None):\n",
        "        self.state = state\n",
        "        self.parent = parent\n",
        "        self.children = []\n",
        "        self.wins = 0\n",
        "        self.visits = 0\n",
        "        self.visited_children = []\n",
        "        self.total_simulation_reward = 0\n",
        "\n",
        "    def fully_expanded(self):\n",
        "        return len(self.children) == len(self.state.legal_moves())\n",
        "\n",
        "    def best_uct(self, exploration_constant=1.4):\n",
        "        best_child = None\n",
        "        best_score = -float('inf')\n",
        "        # print(\"-\"*30)\n",
        "        for child in self.children:\n",
        "            exploit = child.total_simulation_reward / child.visits if child.visits > 0 else float('inf')\n",
        "            explore = np.sqrt(2 * np.log(self.visits) / child.visits) if child.visits > 0 else float('inf')\n",
        "            score = exploit + exploration_constant * explore\n",
        "            # print(score)\n",
        "            # print(child.state.board)\n",
        "            if score > best_score:\n",
        "                best_score = score\n",
        "                best_child = child\n",
        "        return best_child\n",
        "\n",
        "    def pick_unvisited(self, root):\n",
        "        legal_moves = self.state.legal_moves()\n",
        "        # print(\"pre\",legal_moves)\n",
        "\n",
        "        for child in self.visited_children:\n",
        "          move = (np.array(child.state.board) - np.array(root.state.board)).nonzero()\n",
        "          move = (move[0][0], move[1][0])\n",
        "          # print(\"move\", move)\n",
        "          if move in legal_moves:\n",
        "            legal_moves.remove(move)\n",
        "        # print(\"de\", legal_moves)\n",
        "\n",
        "\n",
        "        random.shuffle(legal_moves)\n",
        "        for move in legal_moves:\n",
        "            # print(move)\n",
        "            next_state = self.state.copy()\n",
        "            next_state.make_move(move)\n",
        "            child_node = Node(next_state, parent=self)\n",
        "            self.children.append(child_node)\n",
        "            return child_node\n",
        "\n",
        "    @staticmethod\n",
        "    def rollout_policy(state):\n",
        "        legal_moves = state.legal_moves()\n",
        "        if not legal_moves:\n",
        "            return None  # No legal moves available\n",
        "        return legal_moves[np.random.choice(len(legal_moves))]\n",
        "\n",
        "    def backpropagate(self, result):\n",
        "        self.visits += 1\n",
        "        if result == 1:\n",
        "          self.total_simulation_reward += 15*result\n",
        "        elif result == -1:\n",
        "          self.total_simulation_reward += 25*result\n",
        "        else:\n",
        "          self.total_simulation_reward += 2\n",
        "        self.total_simulation_reward += result\n",
        "        if self.parent:\n",
        "            self.parent.backpropagate(result)"
      ],
      "metadata": {
        "id": "1vPsNxH7tvTV"
      },
      "execution_count": null,
      "outputs": []
    },
    {
      "cell_type": "code",
      "source": [
        "def monte_carlo_tree_search(root, iterations):\n",
        "    for i in range(iterations):\n",
        "        # print(f\"Iteration {i+1}/{iterations}\")\n",
        "        node = root\n",
        "        # Selection\n",
        "        while node.fully_expanded() and not node.state.is_terminal():\n",
        "            node = node.best_uct()\n",
        "        if not node.state.is_terminal():\n",
        "            if not node.fully_expanded():\n",
        "                child = node.pick_unvisited(root)\n",
        "                node.visited_children.append(child)\n",
        "            else:\n",
        "                child = node.best_uct()\n",
        "\n",
        "            # Expansion\n",
        "            # print(\"Simulation:\")\n",
        "            temp_state = child.state.copy()\n",
        "            while not temp_state.is_terminal():\n",
        "                # Create a copy of the state\n",
        "                if temp_state.current_player == -1:\n",
        "                   move = opponent_policy(temp_state, temp_state.legal_moves())\n",
        "                   temp_state.make_move(move)\n",
        "                else:\n",
        "                   move = Node.rollout_policy(temp_state)  # Pass the copied state to the rollout policy\n",
        "                   temp_state.make_move(move)\n",
        "                # Switch players\n",
        "                # print(temp_state.board)\n",
        "                # result = (temp_state.is_winner(1)) ^ temp_state.is_winner(-1))  # Use the copied state for result calculation\n",
        "            if temp_state.is_winner(1):\n",
        "                result = 1\n",
        "            elif temp_state.is_winner(-1):\n",
        "                result = -1\n",
        "            else:\n",
        "                result = 0\n",
        "\n",
        "            # print(f\"Result of simulation: {'-1' if result == -1 else '1' if result == 1 else 'Draw'}\")\n",
        "            # Backpropagation\n",
        "            child.backpropagate(result)\n",
        "            # print(f\"Backpropagated result: {result}\")\n",
        "    # print(root.best_uct().total_simulation_reward)\n",
        "    return root.best_uct()"
      ],
      "metadata": {
        "id": "zqL-W_BtDMhd"
      },
      "execution_count": null,
      "outputs": []
    },
    {
      "cell_type": "markdown",
      "source": [
        "# Opponent policy"
      ],
      "metadata": {
        "id": "z33TFCDNcFn4"
      }
    },
    {
      "cell_type": "code",
      "source": [
        "def opponent_policy(state, legal_moves):\n",
        "\n",
        "    # Check if there are legal moves available\n",
        "    if not legal_moves:\n",
        "        return None  # No legal moves available\n",
        "\n",
        "    # Check for an immediate winning move\n",
        "    for move in legal_moves:\n",
        "        next_state = state.copy()\n",
        "        next_state.make_move(move)\n",
        "        if next_state.is_winner(-1):\n",
        "            return move\n",
        "\n",
        "    # Check for a blocking move to prevent the opponent from winning\n",
        "    for move in legal_moves:\n",
        "        next_state = state.copy()\n",
        "        next_state.make_move_player(move, 1)\n",
        "        if next_state.is_winner(1):\n",
        "            return move\n",
        "\n",
        "    center_tile = (1, 1)\n",
        "    if center_tile in legal_moves:\n",
        "        return center_tile\n",
        "\n",
        "    # If no immediate winning or blocking move, choose a random move\n",
        "    return legal_moves[np.random.choice(len(legal_moves))]\n"
      ],
      "metadata": {
        "id": "cizafPAFcHtR"
      },
      "execution_count": null,
      "outputs": []
    },
    {
      "cell_type": "markdown",
      "source": [
        "# Gameplay"
      ],
      "metadata": {
        "id": "MD89oA39cUMB"
      }
    },
    {
      "cell_type": "markdown",
      "source": [
        "# 3x3"
      ],
      "metadata": {
        "id": "TJebtBwwTH7c"
      }
    },
    {
      "cell_type": "code",
      "source": [
        "for i in range(5):\n",
        "  game = TicTacToe(3)\n",
        "  while not game.is_terminal():\n",
        "      root = Node(game)\n",
        "\n",
        "      if game.current_player == 1:\n",
        "          best_child = monte_carlo_tree_search(root, iterations=1)\n",
        "          move = (np.array(best_child.state.board) - np.array(game.board)).nonzero()\n",
        "          move = (move[0][0], move[1][0])\n",
        "      else:\n",
        "          legal_moves = game.legal_moves()\n",
        "          move = opponent_policy(game, legal_moves)\n",
        "\n",
        "      game.make_move(move)\n",
        "\n",
        "\n",
        "  if game.is_winner(1):\n",
        "      print(\"Winner: \", 1)\n",
        "  elif game.is_winner(-1):\n",
        "      print(\"Winner: \", -1)\n",
        "  else:\n",
        "      print(\"Winner: \", \"DRAW\")\n",
        "\n",
        "  print(game.board)"
      ],
      "metadata": {
        "id": "ziezYIPHERD1",
        "colab": {
          "base_uri": "https://localhost:8080/"
        },
        "outputId": "fe2920e9-d2c7-445c-8169-177d52fb6493"
      },
      "execution_count": null,
      "outputs": [
        {
          "output_type": "stream",
          "name": "stdout",
          "text": [
            "Winner:  DRAW\n",
            "[[ 1 -1  1]\n",
            " [-1 -1  1]\n",
            " [ 1  1 -1]]\n",
            "Winner:  -1\n",
            "[[-1 -1  1]\n",
            " [ 1 -1  0]\n",
            " [ 1  1 -1]]\n",
            "Winner:  -1\n",
            "[[ 0 -1  1]\n",
            " [ 1 -1  0]\n",
            " [ 0 -1  1]]\n",
            "Winner:  -1\n",
            "[[-1  0  0]\n",
            " [ 0 -1  1]\n",
            " [ 1  1 -1]]\n",
            "Winner:  -1\n",
            "[[-1 -1  1]\n",
            " [-1  1  0]\n",
            " [-1  1  1]]\n"
          ]
        }
      ]
    },
    {
      "cell_type": "code",
      "source": [
        "for i in range(5):\n",
        "  game = TicTacToe()\n",
        "  while not game.is_terminal():\n",
        "      root = Node(game)\n",
        "\n",
        "      if game.current_player == 1:\n",
        "          best_child = monte_carlo_tree_search(root, iterations=7000)\n",
        "          move = (np.array(best_child.state.board) - np.array(game.board)).nonzero()\n",
        "          move = (move[0][0], move[1][0])\n",
        "      else:\n",
        "          legal_moves = game.legal_moves()\n",
        "          move = opponent_policy(game, legal_moves)\n",
        "\n",
        "      game.make_move(move)\n",
        "\n",
        "\n",
        "  if game.is_winner(1):\n",
        "      print(\"Winner: \", 1)\n",
        "  elif game.is_winner(-1):\n",
        "      print(\"Winner: \", -1)\n",
        "  else:\n",
        "      print(\"Winner: \", \"DRAW\")\n",
        "\n",
        "  print(game.board)"
      ],
      "metadata": {
        "colab": {
          "base_uri": "https://localhost:8080/"
        },
        "id": "iMVdVTS9K6OE",
        "outputId": "7a5c34c3-baac-4427-da82-cbe818ce1d11"
      },
      "execution_count": null,
      "outputs": [
        {
          "output_type": "stream",
          "name": "stdout",
          "text": [
            "Winner:  DRAW\n",
            "[[ 1 -1 -1]\n",
            " [-1  1  1]\n",
            " [ 1  1 -1]]\n",
            "Winner:  DRAW\n",
            "[[ 1 -1  1]\n",
            " [-1  1  1]\n",
            " [-1  1 -1]]\n",
            "Winner:  1\n",
            "[[ 1  1 -1]\n",
            " [-1  1  0]\n",
            " [ 0  1 -1]]\n",
            "Winner:  DRAW\n",
            "[[ 1 -1 -1]\n",
            " [-1  1  1]\n",
            " [ 1  1 -1]]\n",
            "Winner:  1\n",
            "[[-1  0 -1]\n",
            " [ 1  1  1]\n",
            " [ 1 -1  0]]\n"
          ]
        }
      ]
    },
    {
      "cell_type": "code",
      "source": [
        "ai_wins = 0\n",
        "opponent_wins = 0\n",
        "draws = 0\n",
        "\n",
        "for i in range(100):\n",
        "  game = TicTacToe()\n",
        "  # print('-'*100)\n",
        "  # print(\"Game :\", i)\n",
        "  while not game.is_terminal():\n",
        "      root = Node(game)\n",
        "\n",
        "      if game.current_player == 1:\n",
        "          best_child = monte_carlo_tree_search(root, iterations=5000)\n",
        "          move = (np.array(best_child.state.board) - np.array(game.board)).nonzero()\n",
        "          move = (move[0][0], move[1][0])\n",
        "      else:\n",
        "          legal_moves = game.legal_moves()\n",
        "          move = opponent_policy(game, legal_moves)\n",
        "\n",
        "      game.make_move(move)\n",
        "\n",
        "  if game.is_winner(1):\n",
        "      ai_wins += 1\n",
        "  elif game.is_winner(-1):\n",
        "      opponent_wins += 1\n",
        "  else:\n",
        "      draws += 1\n",
        "\n",
        "print(\"ai_wins\", ai_wins)\n",
        "print(\"opponent_wins\", opponent_wins)\n",
        "print(\"draws\", draws)\n",
        "\n"
      ],
      "metadata": {
        "colab": {
          "base_uri": "https://localhost:8080/"
        },
        "id": "9QogVjAOKZUo",
        "outputId": "42d656cd-d4a1-4813-dc04-586eaacf8a97"
      },
      "execution_count": null,
      "outputs": [
        {
          "output_type": "stream",
          "name": "stdout",
          "text": [
            "ai_wins 35\n",
            "opponent_wins 23\n",
            "draws 42\n"
          ]
        }
      ]
    },
    {
      "cell_type": "markdown",
      "source": [
        "# Tuning reward system"
      ],
      "metadata": {
        "id": "Qero9z-9Rdx9"
      }
    },
    {
      "cell_type": "markdown",
      "source": [
        "## Exploration vs Exploitation"
      ],
      "metadata": {
        "id": "3BkAtrOBRyUV"
      }
    },
    {
      "cell_type": "markdown",
      "source": [
        "note: this was run by passing the exploration constant to the mcts, the code was changed specifically for this test. In the current state of the code you cannot pass this constant."
      ],
      "metadata": {
        "id": "HWuL91SUVarQ"
      }
    },
    {
      "cell_type": "code",
      "source": [
        "for i in range(1):\n",
        "    # print(f\"Test {i + 1}:\")\n",
        "\n",
        "    print(\"=\"*30)\n",
        "\n",
        "    # High Exploitation and Low Exploration\n",
        "    root = Node(TicTacToe(3))\n",
        "    root_exploit = monte_carlo_tree_search(root, iterations=7000, exploration_constant=0.1)\n",
        "    print(\"Low Exploitation, High Exploration\")\n",
        "    print(\"Total Simulation Reward:\", root_exploit.total_simulation_reward)\n",
        "\n",
        "    print(\"=\"*30)\n",
        "\n",
        "    # High Exploration and Low Exploitation\n",
        "    root = Node(TicTacToe(3))\n",
        "    root_explore = monte_carlo_tree_search(root, iterations=3000, exploration_constant=1.4)\n",
        "    print(\"Baseline Exploration, Baseline Exploitation\")\n",
        "    print(\"Total Simulation Reward:\", root_explore.total_simulation_reward)\n",
        "\n",
        "    print(\"=\"*30)\n",
        "\n",
        "     # High Exploration and Low Exploitation\n",
        "    root = Node(TicTacToe(3))\n",
        "    root_explore = monte_carlo_tree_search(root, iterations=7000, exploration_constant=10)\n",
        "    print(\"High Exploration, Low Exploitation\")\n",
        "    print(\"Total Simulation Reward:\", root_explore.total_simulation_reward)\n",
        "\n",
        "    print(\"=\"*30)\n",
        "\n",
        "     # Ver High Exploration and Low Exploitation\n",
        "    root = Node(TicTacToe(3))\n",
        "    root_explore = monte_carlo_tree_search(root, iterations=7000, exploration_constant=100)\n",
        "    print(\"Very High Exploration, Low Exploitation\")\n",
        "    print(\"Total Simulation Reward:\", root_explore.total_simulation_reward)\n",
        "\n",
        "    print(\"=\"*30)\n"
      ],
      "metadata": {
        "colab": {
          "base_uri": "https://localhost:8080/"
        },
        "id": "Xzd3swquRjA1",
        "outputId": "be1c3eac-6bad-4c18-aa49-5e8674c79050"
      },
      "execution_count": null,
      "outputs": [
        {
          "output_type": "stream",
          "name": "stdout",
          "text": [
            "==============================\n",
            "Low Exploitation, High Exploration\n",
            "Total Simulation Reward: -18\n",
            "==============================\n",
            "Baseline Exploration, Baseline Exploitation\n",
            "Total Simulation Reward: -20\n",
            "==============================\n",
            "High Exploration, Low Exploitation\n",
            "Total Simulation Reward: -69\n",
            "==============================\n",
            "Very High Exploration, Low Exploitation\n",
            "Total Simulation Reward: -407\n",
            "==============================\n"
          ]
        }
      ]
    },
    {
      "cell_type": "markdown",
      "source": [
        "## Different reward functions"
      ],
      "metadata": {
        "id": "EhH2okacR1xk"
      }
    },
    {
      "cell_type": "markdown",
      "source": [
        "note: the code in backpropagate was changed where values for winning for the ai was increased by +25 (from +1) and the reward for making a loss to +2 (from 0). The reward for losing remained the same"
      ],
      "metadata": {
        "id": "xeKx0SQrfdrz"
      }
    },
    {
      "cell_type": "markdown",
      "source": [
        "### Defensive"
      ],
      "metadata": {
        "id": "lE_6jWagq1HV"
      }
    },
    {
      "cell_type": "code",
      "source": [
        "    # def backpropagate(self, result):\n",
        "    #     self.visits += 1\n",
        "    #     if result == 1:\n",
        "    #       self.total_simulation_reward += result\n",
        "    #     elif result == -1:\n",
        "    #       self.total_simulation_reward += result\n",
        "    #     else:\n",
        "    #       self.total_simulation_reward += 10\n",
        "    #     self.total_simulation_reward += result\n",
        "    #     if self.parent:\n",
        "    #         self.parent.backpropagate(result)"
      ],
      "metadata": {
        "id": "RZoNwOBjYAdV"
      },
      "execution_count": null,
      "outputs": []
    },
    {
      "cell_type": "code",
      "source": [
        "ai_wins = 0\n",
        "opponent_wins = 0\n",
        "draws = 0\n",
        "\n",
        "for i in range(100):\n",
        "  game = TicTacToe(3)\n",
        "  # print('-'*100)\n",
        "  # print(\"Game :\", i)\n",
        "  while not game.is_terminal():\n",
        "      root = Node(game)\n",
        "\n",
        "      if game.current_player == 1:\n",
        "          best_child = monte_carlo_tree_search(root, iterations=5000)\n",
        "          move = (np.array(best_child.state.board) - np.array(game.board)).nonzero()\n",
        "          move = (move[0][0], move[1][0])\n",
        "      else:\n",
        "          legal_moves = game.legal_moves()\n",
        "          move = opponent_policy(game, legal_moves)\n",
        "\n",
        "      game.make_move(move)\n",
        "\n",
        "  if game.is_winner(1):\n",
        "      ai_wins += 1\n",
        "  elif game.is_winner(-1):\n",
        "      opponent_wins += 1\n",
        "  else:\n",
        "      draws += 1\n",
        "\n",
        "print(\"ai_wins\", ai_wins)\n",
        "print(\"opponent_wins\", opponent_wins)\n",
        "print(\"draws\", draws)\n",
        "\n"
      ],
      "metadata": {
        "colab": {
          "base_uri": "https://localhost:8080/"
        },
        "id": "v1bzyEgAXLaO",
        "outputId": "2c9b10de-9825-4eb3-b46a-da38d2e9f299"
      },
      "execution_count": null,
      "outputs": [
        {
          "output_type": "stream",
          "name": "stdout",
          "text": [
            "ai_wins 2\n",
            "opponent_wins 10\n",
            "draws 88\n"
          ]
        }
      ]
    },
    {
      "cell_type": "markdown",
      "source": [
        "### Offensive"
      ],
      "metadata": {
        "id": "ZX_D2pbF09Me"
      }
    },
    {
      "cell_type": "code",
      "source": [
        "    # def backpropagate(self, result):\n",
        "    #     self.visits += 1\n",
        "    #     if result == 1:\n",
        "    #       self.total_simulation_reward += 30*result\n",
        "    #     elif result == -1:\n",
        "    #       self.total_simulation_reward += result\n",
        "    #     else:\n",
        "    #       self.total_simulation_reward += 3\n",
        "    #     self.total_simulation_reward += result\n",
        "    #     if self.parent:\n",
        "    #         self.parent.backpropagate(result)"
      ],
      "metadata": {
        "id": "hmbZi_sqrzle"
      },
      "execution_count": null,
      "outputs": []
    },
    {
      "cell_type": "code",
      "source": [
        "ai_wins = 0\n",
        "opponent_wins = 0\n",
        "draws = 0\n",
        "\n",
        "for i in range(100):\n",
        "  game = TicTacToe(3)\n",
        "  # print('-'*100)\n",
        "  # print(\"Game :\", i)\n",
        "  while not game.is_terminal():\n",
        "      root = Node(game)\n",
        "\n",
        "      if game.current_player == 1:\n",
        "          best_child = monte_carlo_tree_search(root, iterations=5000)\n",
        "          move = (np.array(best_child.state.board) - np.array(game.board)).nonzero()\n",
        "          move = (move[0][0], move[1][0])\n",
        "      else:\n",
        "          legal_moves = game.legal_moves()\n",
        "          move = opponent_policy(game, legal_moves)\n",
        "\n",
        "      game.make_move(move)\n",
        "\n",
        "  if game.is_winner(1):\n",
        "      ai_wins += 1\n",
        "  elif game.is_winner(-1):\n",
        "      opponent_wins += 1\n",
        "  else:\n",
        "      draws += 1\n",
        "\n",
        "print(\"ai_wins\", ai_wins)\n",
        "print(\"opponent_wins\", opponent_wins)\n",
        "print(\"draws\", draws)\n"
      ],
      "metadata": {
        "colab": {
          "base_uri": "https://localhost:8080/"
        },
        "id": "OPJn7bLmrxGX",
        "outputId": "489ebf53-ab7a-4bf0-9a9f-04e00c232cd7"
      },
      "execution_count": null,
      "outputs": [
        {
          "output_type": "stream",
          "name": "stdout",
          "text": [
            "ai_wins 23\n",
            "opponent_wins 13\n",
            "draws 64\n"
          ]
        }
      ]
    },
    {
      "cell_type": "markdown",
      "source": [
        "# 4x4 grid"
      ],
      "metadata": {
        "id": "cwj2XEByO5n_"
      }
    },
    {
      "cell_type": "code",
      "source": [
        "def opponent_policy(state, legal_moves):\n",
        "\n",
        "    # Check if there are legal moves available\n",
        "    if not legal_moves:\n",
        "        return None  # No legal moves available\n",
        "\n",
        "    # Check for an immediate winning move\n",
        "    for move in legal_moves:\n",
        "        next_state = state.copy()\n",
        "        next_state.make_move(move)\n",
        "        if next_state.is_winner(-1):\n",
        "            return move\n",
        "\n",
        "    # Check for a blocking move to prevent the opponent from winning\n",
        "    for move in legal_moves:\n",
        "        next_state = state.copy()\n",
        "        next_state.make_move_player(move, 1)\n",
        "        if next_state.is_winner(1):\n",
        "            return move\n",
        "\n",
        "    # If no immediate winning or blocking move, choose a random move\n",
        "    return legal_moves[np.random.choice(len(legal_moves))]\n"
      ],
      "metadata": {
        "id": "zaWOmgK6O4bh"
      },
      "execution_count": null,
      "outputs": []
    },
    {
      "cell_type": "code",
      "source": [
        "for i in range(5):\n",
        "  game = TicTacToe(4)\n",
        "  while not game.is_terminal():\n",
        "      root = Node(game)\n",
        "\n",
        "      if game.current_player == 1:\n",
        "          best_child = monte_carlo_tree_search(root, iterations=1)\n",
        "          move = (np.array(best_child.state.board) - np.array(game.board)).nonzero()\n",
        "          move = (move[0][0], move[1][0])\n",
        "      else:\n",
        "          legal_moves = game.legal_moves()\n",
        "          move = opponent_policy(game, legal_moves)\n",
        "\n",
        "      game.make_move(move)\n",
        "\n",
        "\n",
        "  if game.is_winner(1):\n",
        "      print(\"Winner: \", 1)\n",
        "  elif game.is_winner(-1):\n",
        "      print(\"Winner: \", -1)\n",
        "  else:\n",
        "      print(\"Winner: \", \"DRAW\")\n",
        "\n",
        "  print(game.board)"
      ],
      "metadata": {
        "colab": {
          "base_uri": "https://localhost:8080/"
        },
        "id": "7REDa-tlSuoK",
        "outputId": "89d6f901-fc8d-4354-d4f2-a4974a7a8a1d"
      },
      "execution_count": null,
      "outputs": [
        {
          "output_type": "stream",
          "name": "stdout",
          "text": [
            "Winner:  -1\n",
            "[[-1  1  1  0]\n",
            " [ 1 -1 -1  1]\n",
            " [-1  1 -1  0]\n",
            " [ 1  1 -1 -1]]\n",
            "Winner:  -1\n",
            "[[ 0  0 -1  0]\n",
            " [ 1  1 -1  1]\n",
            " [-1  1 -1  0]\n",
            " [ 1  0 -1  0]]\n",
            "Winner:  DRAW\n",
            "[[ 1  1 -1  1]\n",
            " [ 1 -1 -1  1]\n",
            " [-1  1 -1 -1]\n",
            " [-1 -1  1  1]]\n",
            "Winner:  -1\n",
            "[[ 1  1 -1 -1]\n",
            " [ 1 -1 -1  0]\n",
            " [-1  1 -1  1]\n",
            " [ 1  1 -1  0]]\n",
            "Winner:  -1\n",
            "[[-1 -1 -1  1]\n",
            " [ 1 -1  1  1]\n",
            " [ 1 -1  1 -1]\n",
            " [ 1 -1 -1  1]]\n"
          ]
        }
      ]
    },
    {
      "cell_type": "code",
      "source": [
        "for i in range(5):\n",
        "  game = TicTacToe(4)\n",
        "  while not game.is_terminal():\n",
        "      root = Node(game)\n",
        "\n",
        "      if game.current_player == 1:\n",
        "          best_child = monte_carlo_tree_search(root, iterations=1000)\n",
        "          move = (np.array(best_child.state.board) - np.array(game.board)).nonzero()\n",
        "          move = (move[0][0], move[1][0])\n",
        "      else:\n",
        "          legal_moves = game.legal_moves()\n",
        "          move = opponent_policy(game, legal_moves)\n",
        "\n",
        "      game.make_move(move)\n",
        "\n",
        "\n",
        "  if game.is_winner(1):\n",
        "      print(\"Winner: \", 1)\n",
        "  elif game.is_winner(-1):\n",
        "      print(\"Winner: \", -1)\n",
        "  else:\n",
        "      print(\"Winner: \", \"DRAW\")\n",
        "\n",
        "  print(game.board)"
      ],
      "metadata": {
        "colab": {
          "base_uri": "https://localhost:8080/"
        },
        "id": "m8pERbHFPshT",
        "outputId": "96d4da1e-26eb-4abb-d296-e569fb4057f3"
      },
      "execution_count": null,
      "outputs": [
        {
          "output_type": "stream",
          "name": "stdout",
          "text": [
            "Winner:  DRAW\n",
            "[[-1 -1  1  1]\n",
            " [ 1 -1 -1 -1]\n",
            " [-1  1  1 -1]\n",
            " [-1  1  1  1]]\n",
            "Winner:  -1\n",
            "[[ 0  0  1 -1]\n",
            " [ 0  0  1  1]\n",
            " [ 0  1  1  0]\n",
            " [-1 -1 -1 -1]]\n",
            "Winner:  DRAW\n",
            "[[-1 -1 -1  1]\n",
            " [ 1 -1  1  1]\n",
            " [-1 -1  1 -1]\n",
            " [ 1  1 -1  1]]\n",
            "Winner:  DRAW\n",
            "[[ 1 -1 -1 -1]\n",
            " [-1  1  1  1]\n",
            " [-1  1 -1  1]\n",
            " [ 1 -1 -1  1]]\n",
            "Winner:  DRAW\n",
            "[[-1 -1 -1  1]\n",
            " [ 1 -1  1  1]\n",
            " [ 1 -1 -1 -1]\n",
            " [ 1  1 -1  1]]\n"
          ]
        }
      ]
    },
    {
      "cell_type": "markdown",
      "source": [
        "# 5x5"
      ],
      "metadata": {
        "id": "6c9QDWxUQ7MT"
      }
    },
    {
      "cell_type": "code",
      "source": [
        "def opponent_policy(state, legal_moves):\n",
        "\n",
        "    # Check if there are legal moves available\n",
        "    if not legal_moves:\n",
        "        return None  # No legal moves available\n",
        "\n",
        "    # Check for an immediate winning move\n",
        "    for move in legal_moves:\n",
        "        next_state = state.copy()\n",
        "        next_state.make_move(move)\n",
        "        if next_state.is_winner(-1):\n",
        "            return move\n",
        "\n",
        "    # Check for a blocking move to prevent the opponent from winning\n",
        "    for move in legal_moves:\n",
        "        next_state = state.copy()\n",
        "        next_state.make_move_player(move, 1)\n",
        "        if next_state.is_winner(1):\n",
        "            return move\n",
        "\n",
        "    center_tile = (1, 1)\n",
        "    if center_tile in legal_moves:\n",
        "        return center_tile\n",
        "\n",
        "    # If no immediate winning or blocking move, choose a random move\n",
        "    return legal_moves[np.random.choice(len(legal_moves))]\n"
      ],
      "metadata": {
        "id": "9JcIRtZCQ9Om"
      },
      "execution_count": null,
      "outputs": []
    },
    {
      "cell_type": "code",
      "source": [
        "for i in range(5):\n",
        "  game = TicTacToe(5)\n",
        "  while not game.is_terminal():\n",
        "      root = Node(game)\n",
        "\n",
        "      if game.current_player == 1:\n",
        "          best_child = monte_carlo_tree_search(root, iterations=1)\n",
        "          move = (np.array(best_child.state.board) - np.array(game.board)).nonzero()\n",
        "          move = (move[0][0], move[1][0])\n",
        "      else:\n",
        "          legal_moves = game.legal_moves()\n",
        "          move = opponent_policy(game, legal_moves)\n",
        "\n",
        "      game.make_move(move)\n",
        "\n",
        "\n",
        "  if game.is_winner(1):\n",
        "      print(\"Winner: \", 1)\n",
        "  elif game.is_winner(-1):\n",
        "      print(\"Winner: \", -1)\n",
        "  else:\n",
        "      print(\"Winner: \", \"DRAW\")\n",
        "\n",
        "  print(game.board)"
      ],
      "metadata": {
        "colab": {
          "base_uri": "https://localhost:8080/"
        },
        "id": "Av6b-jhJSn9i",
        "outputId": "b1e60358-9894-4cb1-8929-b3f5ce00abc5"
      },
      "execution_count": null,
      "outputs": [
        {
          "output_type": "stream",
          "name": "stdout",
          "text": [
            "Winner:  -1\n",
            "[[-1  1  1  1 -1]\n",
            " [ 0 -1  1  1 -1]\n",
            " [ 0 -1  1  1  0]\n",
            " [-1 -1 -1 -1 -1]\n",
            " [ 1  1  1  1 -1]]\n",
            "Winner:  DRAW\n",
            "[[ 1  1 -1 -1  1]\n",
            " [-1 -1  1  1  1]\n",
            " [-1  1 -1 -1 -1]\n",
            " [ 1  1 -1  1  1]\n",
            " [ 1  1 -1 -1 -1]]\n",
            "Winner:  -1\n",
            "[[-1 -1 -1 -1 -1]\n",
            " [ 1 -1  0  0 -1]\n",
            " [ 0  0  1  1  0]\n",
            " [ 1  1  1  1 -1]\n",
            " [ 0  1  0  0  0]]\n",
            "Winner:  -1\n",
            "[[ 0  0  0  0  1]\n",
            " [-1 -1 -1 -1 -1]\n",
            " [ 0  0  1  0  0]\n",
            " [ 1  0  0  0  0]\n",
            " [ 0  0  0  1  1]]\n",
            "Winner:  -1\n",
            "[[ 1 -1  1  0  0]\n",
            " [-1 -1 -1 -1 -1]\n",
            " [ 0  1  1 -1 -1]\n",
            " [ 0  0  1  0  0]\n",
            " [ 0  1  0  1  1]]\n"
          ]
        }
      ]
    },
    {
      "cell_type": "code",
      "source": [
        "for i in range(5):\n",
        "  game = TicTacToe(5)\n",
        "  while not game.is_terminal():\n",
        "      root = Node(game)\n",
        "\n",
        "      if game.current_player == 1:\n",
        "          best_child = monte_carlo_tree_search(root, iterations=500)\n",
        "          move = (np.array(best_child.state.board) - np.array(game.board)).nonzero()\n",
        "          move = (move[0][0], move[1][0])\n",
        "      else:\n",
        "          legal_moves = game.legal_moves()\n",
        "          move = opponent_policy(game, legal_moves)\n",
        "\n",
        "      game.make_move(move)\n",
        "\n",
        "\n",
        "  if game.is_winner(1):\n",
        "      print(\"Winner: \", 1)\n",
        "  elif game.is_winner(-1):\n",
        "      print(\"Winner: \", -1)\n",
        "  else:\n",
        "      print(\"Winner: \", \"DRAW\")\n",
        "\n",
        "  print(game.board)"
      ],
      "metadata": {
        "colab": {
          "base_uri": "https://localhost:8080/"
        },
        "id": "IJRPVhkERBkf",
        "outputId": "16622e12-ba74-47e8-cd3a-9e7087a0dd5b"
      },
      "execution_count": null,
      "outputs": [
        {
          "output_type": "stream",
          "name": "stdout",
          "text": [
            "Winner:  DRAW\n",
            "[[ 1 -1 -1 -1  1]\n",
            " [-1 -1  1 -1  1]\n",
            " [-1 -1  1 -1 -1]\n",
            " [ 1  1 -1  1  1]\n",
            " [ 1  1  1 -1  1]]\n",
            "Winner:  DRAW\n",
            "[[ 1 -1  1 -1 -1]\n",
            " [-1 -1  1 -1  1]\n",
            " [-1 -1  1  1 -1]\n",
            " [-1  1  1  1  1]\n",
            " [ 1 -1 -1  1  1]]\n",
            "Winner:  DRAW\n",
            "[[ 1  1 -1  1  1]\n",
            " [-1 -1 -1  1 -1]\n",
            " [-1 -1  1 -1  1]\n",
            " [ 1  1 -1  1  1]\n",
            " [-1 -1  1  1 -1]]\n",
            "Winner:  -1\n",
            "[[ 1 -1  0  0  1]\n",
            " [ 0 -1  0  0  1]\n",
            " [ 1 -1 -1  1  1]\n",
            " [-1 -1  0  1  0]\n",
            " [ 0 -1 -1  1  0]]\n",
            "Winner:  DRAW\n",
            "[[ 1 -1 -1  1 -1]\n",
            " [ 1 -1  1  1 -1]\n",
            " [ 1  1 -1  1  1]\n",
            " [-1  1 -1 -1  1]\n",
            " [ 1  1 -1 -1 -1]]\n"
          ]
        }
      ]
    }
  ]
}